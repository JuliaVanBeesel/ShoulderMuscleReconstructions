{
 "cells": [
  {
   "cell_type": "markdown",
   "id": "b8688e57-24aa-4a54-8f04-c6199019641f",
   "metadata": {
    "editable": true,
    "slideshow": {
     "slide_type": ""
    },
    "tags": []
   },
   "source": [
    "# SIS 3 Paired T-Test and Regression Analysis for Muscle Lengths"
   ]
  },
  {
   "cell_type": "markdown",
   "id": "977b87d2-55f7-45f1-9b22-2e2e921c1835",
   "metadata": {
    "editable": true,
    "slideshow": {
     "slide_type": ""
    },
    "tags": []
   },
   "source": [
    "In this chapter, a paired t-test and regression analysis is performed to compare the reconstructed 3D muscle lengths with experimental measurements.\n",
    "The results of the analysis and the figures are used in the supplementary information in section 3. "
   ]
  },
  {
   "cell_type": "markdown",
   "id": "f58b5030-bce1-4ee8-bf90-a9b9bd495663",
   "metadata": {
    "editable": true,
    "slideshow": {
     "slide_type": ""
    },
    "tags": []
   },
   "source": [
    "## Imports\n",
    "\n",
    "Required packages for this analysis can be found in the `requirements.txt` file. Ensure that all dependencies are installed before running the script."
   ]
  },
  {
   "cell_type": "code",
   "execution_count": 1,
   "id": "f4614d96-6e47-4de5-ba4d-097708153e6d",
   "metadata": {
    "editable": true,
    "slideshow": {
     "slide_type": ""
    },
    "tags": [
     "hide-input"
    ]
   },
   "outputs": [],
   "source": [
    "import matplotlib.pyplot as plt\n",
    "import numpy as np\n",
    "import pandas as pd\n",
    "from scipy.stats import ttest_rel\n",
    "from scipy import stats\n",
    "import os\n",
    "from sklearn.metrics import mean_absolute_error, mean_squared_error, r2_score\n",
    "import statsmodels.api as sm\n",
    "import seaborn as sns\n",
    "\n",
    "# Setting global styles for plots\n",
    "sns.set(style='white')\n",
    "\n",
    "# ANSI escape code for bold text in print\n",
    "bold_start = \"\\033[1m\"\n",
    "bold_end = \"\\033[0m\""
   ]
  },
  {
   "cell_type": "markdown",
   "id": "24419ff8-6ef9-45f0-bbaa-e31db20ad2a0",
   "metadata": {
    "editable": true,
    "slideshow": {
     "slide_type": ""
    },
    "tags": []
   },
   "source": [
    "## Input Setup"
   ]
  },
  {
   "cell_type": "markdown",
   "id": "acfb18c4-e72e-4da9-b4e8-e64a399ab82d",
   "metadata": {
    "editable": true,
    "slideshow": {
     "slide_type": ""
    },
    "tags": []
   },
   "source": [
    "Loads the `Muscle_data.xlsx` file containing all original data and removes specimens where 3D reconstructions have not been performed."
   ]
  },
  {
   "cell_type": "code",
   "execution_count": 2,
   "id": "6a5993cf-ab5b-41ad-9832-9a0d910560ba",
   "metadata": {
    "editable": true,
    "slideshow": {
     "slide_type": ""
    },
    "tags": [
     "hide_cell",
     "hide-input"
    ]
   },
   "outputs": [],
   "source": [
    "# Load the data from the provided Excel file\n",
    "file_path = os.path.join('Muscle_data.xlsx')\n",
    "data = pd.read_excel(file_path)\n",
    "\n",
    "# Filter out specimens with missing data\n",
    "data = data[~data['Specimen_ID'].isin([129, 130, 131])]\n",
    "\n",
    "# log transform data\n",
    "exp_lengths = np.log(data['Length_exp (cm)'])\n",
    "poly_lengths = np.log(data['Length_rec (cm)'])\n",
    "\n",
    "# store muscle names and species names    \n",
    "muscle_names = data['Muscle_Name']\n",
    "specimen_names = data['Genus']"
   ]
  },
  {
   "cell_type": "markdown",
   "id": "e4f978d0-4fd8-4e68-8bac-2dc02896eb37",
   "metadata": {
    "editable": true,
    "slideshow": {
     "slide_type": ""
    },
    "tags": []
   },
   "source": [
    "## Paired T-Test\n",
    "\n",
    "Performs a paired t-test of the experimental lengths against the reconstructed lengths and prints the t-statistic and p-value. "
   ]
  },
  {
   "cell_type": "code",
   "execution_count": 3,
   "id": "66286400-8683-4188-969e-457cfa950ae5",
   "metadata": {
    "editable": true,
    "slideshow": {
     "slide_type": ""
    },
    "tags": [
     "hide-input"
    ]
   },
   "outputs": [
    {
     "name": "stdout",
     "output_type": "stream",
     "text": [
      "Paired t-test t-statistic: 2.12\n",
      "Paired t-test p-value: \u001b[1m0.04\u001b[0m\n"
     ]
    }
   ],
   "source": [
    "# Perform paired t-test to compare reconstructed and experimental measurements\n",
    "t_stat, p_value = ttest_rel(exp_lengths, poly_lengths)\n",
    "print(f\"Paired t-test t-statistic: {t_stat:.2f}\")\n",
    "print(f\"Paired t-test p-value: {bold_start}{p_value:.2f}{bold_end}\")"
   ]
  },
  {
   "cell_type": "markdown",
   "id": "8aad3d78-8ed1-4ede-a292-8ab2c7a5a2f2",
   "metadata": {
    "editable": true,
    "slideshow": {
     "slide_type": ""
    },
    "tags": []
   },
   "source": [
    "## Linear Regression and Visualization"
   ]
  },
  {
   "cell_type": "code",
   "execution_count": 4,
   "id": "0362b12d-11ad-4fb5-b2a0-9e83c2889367",
   "metadata": {
    "editable": true,
    "mystnb": {
     "figure": {
      "caption": "_SI Figure 2: Accuracy of muscle length reconstructions. (a) Linear regression of reconstructed (rec) muscle lengths compared to experimental (exp) ones. The red line illustrates the optimal linear regression fit, surrounded by a red shaded area representing the 95% confidence interval of that regression. The gray line represents the identical line (b) Bland-Altman plot displaying the differences between log-transformed reconstructed and experimental muscle lengths. The mean difference between the two measurements is shown by a red dashed line, while the gray dashed lines indicate the limits of agreement, which are determined as the mean difference ± 1.96 times the standard deviation of the differences._",
      "name": "FigMuscleLength"
     }
    },
    "slideshow": {
     "slide_type": ""
    },
    "tags": [
     "hide-input"
    ]
   },
   "outputs": [
    {
     "name": "stdout",
     "output_type": "stream",
     "text": [
      "                            OLS Regression Results                            \n",
      "==============================================================================\n",
      "Dep. Variable:        Length_rec (cm)   R-squared:                       0.892\n",
      "Model:                            OLS   Adj. R-squared:                  0.888\n",
      "Method:                 Least Squares   F-statistic:                     230.2\n",
      "Date:                Wed, 23 Oct 2024   Prob (F-statistic):           4.90e-15\n",
      "Time:                        17:40:27   Log-Likelihood:                 18.138\n",
      "No. Observations:                  30   AIC:                            -32.28\n",
      "Df Residuals:                      28   BIC:                            -29.47\n",
      "Df Model:                           1                                         \n",
      "Covariance Type:            nonrobust                                         \n",
      "===================================================================================\n",
      "                      coef    std err          t      P>|t|      [0.025      0.975]\n",
      "-----------------------------------------------------------------------------------\n",
      "const               0.0633      0.173      0.365      0.718      -0.292       0.418\n",
      "Length_exp (cm)     0.9574      0.063     15.173      0.000       0.828       1.087\n",
      "==============================================================================\n",
      "Omnibus:                        3.060   Durbin-Watson:                   1.756\n",
      "Prob(Omnibus):                  0.217   Jarque-Bera (JB):                1.522\n",
      "Skew:                          -0.195   Prob(JB):                        0.467\n",
      "Kurtosis:                       1.968   Cond. No.                         21.5\n",
      "==============================================================================\n",
      "\n",
      "Notes:\n",
      "[1] Standard Errors assume that the covariance matrix of the errors is correctly specified.\n"
     ]
    },
    {
     "data": {
      "image/png": "[encoded data removed]",
      "text/plain": [
       "<Figure size 800x400 with 2 Axes>"
      ]
     },
     "metadata": {},
     "output_type": "display_data"
    }
   ],
   "source": [
    "# Perform linear regression\n",
    "X = sm.add_constant(exp_lengths)\n",
    "model = sm.OLS(poly_lengths, X).fit()\n",
    "intercept, slope = model.params\n",
    "r_squared = model.rsquared\n",
    "\n",
    "# Print the regression summary in a clear format\n",
    "print(model.summary())\n",
    "\n",
    "# Define the desired order of muscle names\n",
    "desired_order_muscle  = ['Supraspinatus', 'Infraspinatus', 'Subscapularis', 'Teres Minor', 'Teres Major']\n",
    "\n",
    "# Define the desired order of specimen\n",
    "desired_order_specimen = ['Hylobates', 'Symphalangus', 'Pongo', 'Gorilla', 'Pan', 'Homo']\n",
    "\n",
    "# Define the custom colors for each muscle\n",
    "custom_colors = {\n",
    "    'Supraspinatus': (0.467, 0.710, 0.367),\n",
    "    'Infraspinatus': (0.7, 0.47, 0.82),\n",
    "    'Subscapularis': (0.45, 0.56, 0.87),\n",
    "    'Teres Minor': (0.741, 0.8, 0.384),\n",
    "    'Teres Major': (0.871, 0.435, 0.427)\n",
    "}\n",
    "\n",
    "# Define unique markers for specimen\n",
    "custom_markers = {\n",
    "    'Hylobates': 'P',\n",
    "    'Symphalangus': 'X',\n",
    "    'Pongo': 'D',\n",
    "    'Gorilla': '^',\n",
    "    'Pan': 'v',\n",
    "    'Homo': 's'\n",
    "}\n",
    "\n",
    "\n",
    "# Create a mapping of muscle names to colors based on the desired order\n",
    "muscle_to_color = {muscle: custom_colors[muscle] for muscle in desired_order_muscle}\n",
    "\n",
    "# Create figure for regression and Bland-Altman plots\n",
    "fig, axes = plt.subplots(1, 2, figsize=(8, 4))\n",
    "\n",
    "# Plot Linear Regression (left subplot)\n",
    "ax1 = axes[0]\n",
    "\n",
    "# Scatter and regression plot\n",
    "sns.regplot(x=exp_lengths, y=poly_lengths, ax=ax1, data=data, scatter=False, color='red', label='Regression line')\n",
    "\n",
    "# Scatter plot of the log-transformed data points\n",
    "for muscle in desired_order_muscle:\n",
    "    for specimen in desired_order_specimen:\n",
    "        mask = (data['Muscle_Name'] == muscle) & (data['Genus'] == specimen)\n",
    "        ax1.scatter(exp_lengths[mask], poly_lengths[mask], \n",
    "                    color=muscle_to_color[muscle], \n",
    "                    marker=custom_markers[specimen],\n",
    "                    linewidths=0.01,\n",
    "                    s=30)\n",
    "\n",
    "ax1.plot(exp_lengths, exp_lengths, color='grey')\n",
    "\n",
    "\n",
    "ax1.set_title('Reconstructed vs Experimental Lengths', fontsize=10)\n",
    "ax1.set_xlabel('Log Length Exp', fontsize=9)\n",
    "ax1.set_ylabel('Log Length Rec', fontsize=9)\n",
    "    \n",
    "\n",
    "equation_text = f'Regression line: y = {slope:.2f}x + {intercept:.2f}\\n$R^2$ = {r_squared:.2f}\\nPaired t-test: t = {t_stat:.2f}\\np-value: {p_value:.2f}'\n",
    "ax1.annotate(equation_text, \n",
    "    xy=(0.05, 0.95), xycoords='axes fraction', fontsize=9, \n",
    "    horizontalalignment='left', verticalalignment='top'\n",
    ")\n",
    "\n",
    "\n",
    "# Apply font size to tick labels\n",
    "\n",
    "ax1.tick_params(axis='both', which='major', labelsize=8)\n",
    "for label in (ax1.get_xticklabels() + ax1.get_yticklabels()):\n",
    "    label.set_size(8)\n",
    "\n",
    "# Add annotation \"a\"\n",
    "ax1.annotate('(a)', xy=(-0.1, 1.05), xycoords='axes fraction', fontsize=12)\n",
    "\n",
    "\n",
    "\n",
    "\n",
    "# Plot Bland-Altman Plot (right subplot)\n",
    "differences = poly_lengths - exp_lengths\n",
    "means = np.mean([poly_lengths, exp_lengths], axis=0)\n",
    "\n",
    "ax2 = axes[1]\n",
    "ax2.axhline(y=np.mean(differences), color='red', linestyle='--')\n",
    "ax2.axhline(y=np.mean(differences) + 1.96*np.std(differences), color='gray', linestyle='--')\n",
    "ax2.axhline(y=np.mean(differences) - 1.96*np.std(differences), color='gray', linestyle='--')\n",
    "\n",
    "for muscle in desired_order_muscle:\n",
    "    for specimen in desired_order_specimen:\n",
    "        mask = (muscle_names == muscle) & (specimen_names == specimen)\n",
    "        ax2.scatter(means[mask], differences[mask], \n",
    "                    color=muscle_to_color[muscle], \n",
    "                    marker=custom_markers[specimen],\n",
    "                    linewidths=0.01,\n",
    "                    s=30)\n",
    "\n",
    "\n",
    "\n",
    "\n",
    "ax2.set_title('Bland-Altman Length Plot', fontsize=10)\n",
    "ax2.set_xlabel('Log Mean of Length', fontsize=9)\n",
    "ax2.set_ylabel('Log Difference in Length', fontsize=9)\n",
    "\n",
    "# Apply custom font to tick labels\n",
    "\n",
    "ax2.tick_params(axis='both', which='major', labelsize=8)\n",
    "for label in (ax2.get_xticklabels() + ax2.get_yticklabels()):\n",
    "    label.set_size(8)\n",
    "    \n",
    "    \n",
    "# Add annotation \"a\"\n",
    "ax2.annotate('(b)', xy=(-0.1, 1.05), xycoords='axes fraction', fontsize=12)\n",
    "\n",
    "# Create legends\n",
    "handles_muscles = [plt.Line2D([0], [0], marker='o', color='w', label=muscle,\n",
    "                              markerfacecolor=color, markersize=10) \n",
    "                   for muscle, color in muscle_to_color.items()]\n",
    "\n",
    "# Create handles with italicized labels\n",
    "handles_specimen = [\n",
    "    plt.Line2D(\n",
    "        [0], [0],\n",
    "        marker=marker,\n",
    "        color='w',\n",
    "        label=f'${specimen}$',  # Italicize the label here\n",
    "        markerfacecolor='gray',\n",
    "        markersize=10\n",
    "    )\n",
    "    for specimen, marker in custom_markers.items()\n",
    "]\n",
    "\n",
    "# Add legends above and below the plots\n",
    "fig.legend(handles=handles_specimen, title='Genus', loc='upper center', ncol=6)\n",
    "fig.legend(handles=handles_muscles, title='Muscles', loc='lower center', ncol=6)\n",
    "\n",
    "# Display plots with adjusted layout\n",
    "plt.tight_layout(rect=[0, 0.1, 1, 0.9])  # Leave space for legends\n",
    "plt.show()"
   ]
  },
  {
   "cell_type": "markdown",
   "id": "01366ed3-7916-47c9-8d56-aa9ebaa0c23a",
   "metadata": {
    "editable": true,
    "slideshow": {
     "slide_type": ""
    },
    "tags": []
   },
   "source": [
    "## Error Metrics\n",
    "\n",
    "Determines the Mean Absolute Error, \n",
    "Root Mean Squared Errr and \r\n",
    "Coefficient of Determinati.on"
   ]
  },
  {
   "cell_type": "code",
   "execution_count": 5,
   "id": "2ce581f1-b16e-46d8-8bf9-2d7db0cb66e9",
   "metadata": {
    "editable": true,
    "slideshow": {
     "slide_type": ""
    },
    "tags": [
     "hide-input"
    ]
   },
   "outputs": [
    {
     "name": "stdout",
     "output_type": "stream",
     "text": [
      "Mean Absolute Error (MAE): 0.12\n",
      "Root Mean Squared Error (RMSE): 0.14\n",
      "Coefficient of Determination (R²): 0.87\n"
     ]
    }
   ],
   "source": [
    "# Calculate MAE and RMSE\n",
    "mae = mean_absolute_error(exp_lengths, poly_lengths)\n",
    "rmse = np.sqrt(mean_squared_error(exp_lengths, poly_lengths))\n",
    "r2 = r2_score(exp_lengths, poly_lengths)\n",
    "\n",
    "# Display error metrics in a table format\n",
    "print(f\"Mean Absolute Error (MAE): {mae:.2f}\")\n",
    "print(f\"Root Mean Squared Error (RMSE): {rmse:.2f}\")\n",
    "print(f\"Coefficient of Determination (R²): {r2:.2f}\")"
   ]
  },
  {
   "cell_type": "markdown",
   "id": "1273f561-062a-40de-8958-6bda4886e128",
   "metadata": {
    "editable": true,
    "slideshow": {
     "slide_type": ""
    },
    "tags": []
   },
   "source": [
    "## Tests Difference from Identity Line\n",
    "\n",
    "In linear regression, we often want to know if the slope is different from 1, which would indicate a deviation from a perfect one-to-one relationship between the variables.\n",
    "High p-values (above 0.05) would indicate that the slope does not significantly differ from 1 and the intercept does not significantly differ from 0."
   ]
  },
  {
   "cell_type": "code",
   "execution_count": 6,
   "id": "3695e58b-b58c-4acb-aaa6-f85152b32c40",
   "metadata": {
    "editable": true,
    "slideshow": {
     "slide_type": ""
    },
    "tags": [
     "hide-input"
    ]
   },
   "outputs": [
    {
     "name": "stdout",
     "output_type": "stream",
     "text": [
      "t-statistic for intercept vs 0: 15.17\n",
      "p-value for intercept vs 0: \u001b[1m0.72\u001b[0m\n",
      "t-statistic for slope vs 1: -0.68\n",
      "p-value for slope vs 1: \u001b[1m0.50\u001b[0m\n"
     ]
    }
   ],
   "source": [
    "intercept_se, slope_se = model.bse  # Standard errors for the intercept and slope\n",
    "t_stat_slope, t_stat_intercept = model.tvalues  # t-statistics for testing if the slope = 0 and intercept = 0\n",
    "\n",
    "# Calculating the t-statistic for testing if the intercept is significantly different from 0\n",
    "# A t-statistic compares the estimated intercept against 0 to check if it is significantly different.\n",
    "intercept_t_stat = (intercept - 0) / intercept_se\n",
    "\n",
    "# To test if the slope is significantly different from 1, we adjust the hypothesis:\n",
    "# Here, we subtract 1 from the estimated slope, then check if the result is significantly different from 0.\n",
    "t_stat_slope_vs_1 = (slope - 1) / slope_se\n",
    "\n",
    "# Calculate the p-value for the t-statistic of the slope vs 1\n",
    "# The p-value indicates the probability of observing this result under the null hypothesis (slope = 1).\n",
    "p_value_slope_vs_1 = 2 * (1 - stats.t.cdf(abs(t_stat_slope_vs_1), df=len(exp_lengths) - 2))\n",
    "\n",
    "# Calculate the p-value for testing if the intercept is different from 0\n",
    "# This p-value helps determine if the intercept differs significantly from 0.\n",
    "intercept_p_value = 2 * (1 - stats.t.cdf(abs(intercept_t_stat), df=len(exp_lengths) - 2))\n",
    "\n",
    "# Print the results of the hypothesis tests with p-values in bold\n",
    "print(f\"t-statistic for intercept vs 0: {t_stat_intercept:.2f}\")\n",
    "print(f\"p-value for intercept vs 0: {bold_start}{intercept_p_value:.2f}{bold_end}\")\n",
    "print(f\"t-statistic for slope vs 1: {t_stat_slope_vs_1:.2f}\")\n",
    "print(f\"p-value for slope vs 1: {bold_start}{p_value_slope_vs_1:.2f}{bold_end}\")"
   ]
  }
 ],
 "metadata": {
  "celltoolbar": "Tags",
  "kernelspec": {
   "display_name": "Python 3 (ipykernel)",
   "language": "python",
   "name": "python3"
  },
  "language_info": {
   "codemirror_mode": {
    "name": "ipython",
    "version": 3
   },
   "file_extension": ".py",
   "mimetype": "text/x-python",
   "name": "python",
   "nbconvert_exporter": "python",
   "pygments_lexer": "ipython3",
   "version": "3.11.9"
  }
 },
 "nbformat": 4,
 "nbformat_minor": 5
}